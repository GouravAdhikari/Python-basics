{
  "nbformat": 4,
  "nbformat_minor": 0,
  "metadata": {
    "colab": {
      "name": "For Loops",
      "provenance": [],
      "collapsed_sections": []
    },
    "kernelspec": {
      "name": "python3",
      "display_name": "Python 3"
    }
  },
  "cells": [
    {
      "cell_type": "markdown",
      "metadata": {
        "id": "OTSYpzHeZIBM",
        "colab_type": "text"
      },
      "source": [
        "# For Loops\n",
        "- While loops get executed as long as the _while condition_ evaluates to ```True```\n",
        "- To execute a block of code a certain number of times, we use ```for``` loops\n",
        "- A for statement looks something like - <br>\n",
        "  ```for i in range(4):```\n",
        "  It always includes the following - \n",
        "  - The ```for``` keyword\n",
        "  - A variable name\n",
        "  - The ```in``` keyword\n",
        "  - A call to ```range``` method with upto 3 integers passed to it\n",
        "  - A colon\n",
        "  - Indented block of code starting on the next line - the body of for loop (_for clause_)"
      ]
    },
    {
      "cell_type": "code",
      "metadata": {
        "id": "zZulnLS5PNoU",
        "colab_type": "code",
        "colab": {
          "base_uri": "https://localhost:8080/",
          "height": 120
        },
        "outputId": "d5b66e80-7de3-4fbe-d83b-12d082a62203"
      },
      "source": [
        "# A simple example for counting\n",
        "print('Counting from 0 to 4')\n",
        "for i in range(5): # we go up to but not including 5, by default counting starts from 0\n",
        "  print('Number {}'.format(str(i)))\n",
        "\n",
        "## the variable i gets updated in each iteration"
      ],
      "execution_count": null,
      "outputs": [
        {
          "output_type": "stream",
          "text": [
            "Counting from 0 to 4\n",
            "Number 0\n",
            "Number 1\n",
            "Number 2\n",
            "Number 3\n",
            "Number 4\n"
          ],
          "name": "stdout"
        }
      ]
    },
    {
      "cell_type": "markdown",
      "metadata": {
        "id": "2kPs_zyfbuC3",
        "colab_type": "text"
      },
      "source": [
        "- The first time the loop is run, the variable ```i``` is set to ```0```\n",
        "- The variable ```i``` goes up to but not including the number passed to ```range```\n",
        "\n",
        "#### flowchart\n",
        "<img src=\"https://drive.google.com/uc?id=1VzW2O4sK4klD5S44YgJ7VLSgUZbhx-KY\" alt=\"Drawing\" style=\"width: 200px;\"/>\n"
      ]
    },
    {
      "cell_type": "code",
      "metadata": {
        "id": "BVfUWCrabfz5",
        "colab_type": "code",
        "colab": {
          "base_uri": "https://localhost:8080/",
          "height": 34
        },
        "outputId": "da7118b2-84fb-412d-e7a5-ebac8d674758"
      },
      "source": [
        "# Another example, sum of numbers from 1 to 10 including 10\n",
        "total = 0 ## initialize total to 0\n",
        "for num in range(11):\n",
        "  total = total + num\n",
        "print('The sum of numbers from 1 to 10 is {}'.format(total))"
      ],
      "execution_count": null,
      "outputs": [
        {
          "output_type": "stream",
          "text": [
            "The sum of numbers from 1 to 10 is 55\n"
          ],
          "name": "stdout"
        }
      ]
    },
    {
      "cell_type": "markdown",
      "metadata": {
        "id": "IJy1NoM7m6-9",
        "colab_type": "text"
      },
      "source": [
        "### An equivalent while loop"
      ]
    },
    {
      "cell_type": "code",
      "metadata": {
        "id": "ERv-AfDxm4iI",
        "colab_type": "code",
        "colab": {
          "base_uri": "https://localhost:8080/",
          "height": 34
        },
        "outputId": "6ffa5e30-b092-4e12-8f65-a2683519c4b3"
      },
      "source": [
        "## This same program can also be written using a while loop\n",
        "total = 0\n",
        "num = 1\n",
        "while(num<=10):\n",
        "  total = total + num\n",
        "  num = num + 1\n",
        "print('Sum of numbers from 1 to 10 is {}'.format(total))"
      ],
      "execution_count": null,
      "outputs": [
        {
          "output_type": "stream",
          "text": [
            "Sum of numbers from 1 to 10 is 55\n"
          ],
          "name": "stdout"
        }
      ]
    },
    {
      "cell_type": "markdown",
      "metadata": {
        "id": "2B7WlgqlnMm1",
        "colab_type": "text"
      },
      "source": [
        "### Arguments to range - starting, stopping and stepping\n",
        "- Some functions can accept multiple arguments. ```range``` is one of them.\n",
        "- This allows you to start counting from a number other than ```0```\n",
        "\n",
        "When you pass 2 arguments - \n",
        "- The first argument will be the number where to start\n",
        "- The second argument is the number up to but not including which ```range``` will count"
      ]
    },
    {
      "cell_type": "code",
      "metadata": {
        "id": "4LAReQXxmz0r",
        "colab_type": "code",
        "colab": {
          "base_uri": "https://localhost:8080/",
          "height": 34
        },
        "outputId": "37572631-ac3f-4317-ad64-872127bcda5f"
      },
      "source": [
        "## Eg., add numbers from 10 to 15 including both 10 and 15\n",
        "total = 0\n",
        "for num in range(10, 16):\n",
        "  total = total + num # num will take values 10, 11, 12, 13, 14, 15\n",
        "print(total)"
      ],
      "execution_count": null,
      "outputs": [
        {
          "output_type": "stream",
          "text": [
            "75\n"
          ],
          "name": "stdout"
        }
      ]
    },
    {
      "cell_type": "markdown",
      "metadata": {
        "id": "ARL0aKiGn401",
        "colab_type": "text"
      },
      "source": [
        "When you pass 3 arguments - \n",
        "- The first argument is the number where ```range``` starts\n",
        "- The second argument is the number up to but not including which ```range``` will count\n",
        "- The third argument is the step argument - the amount by which variable is increased after each iteration\n",
        "\n"
      ]
    },
    {
      "cell_type": "code",
      "metadata": {
        "id": "qi61kVDZoYZE",
        "colab_type": "code",
        "colab": {
          "base_uri": "https://localhost:8080/",
          "height": 34
        },
        "outputId": "42fbd1ea-ea1f-4f19-eaef-06a851790be3"
      },
      "source": [
        "## Add even numbers between 10 and 19\n",
        "total = 0 # initialize total variable which will hold the sum to 0\n",
        "for num in range(10, 20, 2):\n",
        "  total = total + num ## num will take the values 10, 12, 14, 16, 18\n",
        "print(total)"
      ],
      "execution_count": null,
      "outputs": [
        {
          "output_type": "stream",
          "text": [
            "70\n"
          ],
          "name": "stdout"
        }
      ]
    },
    {
      "cell_type": "code",
      "metadata": {
        "id": "nzLyVAh6oczh",
        "colab_type": "code",
        "colab": {
          "base_uri": "https://localhost:8080/",
          "height": 34
        },
        "outputId": "c9006571-d9c6-4ad7-9fc3-75ae42c8255d"
      },
      "source": [
        "## Add multiples of 3 between 1 to 100\n",
        "total = 0\n",
        "for num in range(3, 101, 3):\n",
        "  total = total + num\n",
        "print(total)"
      ],
      "execution_count": null,
      "outputs": [
        {
          "output_type": "stream",
          "text": [
            "1683\n"
          ],
          "name": "stdout"
        }
      ]
    },
    {
      "cell_type": "markdown",
      "metadata": {
        "id": "D5PvHdOZonN_",
        "colab_type": "text"
      },
      "source": [
        "### Negative parameters to ```range```"
      ]
    },
    {
      "cell_type": "code",
      "metadata": {
        "id": "Fd2wmsEVohKY",
        "colab_type": "code",
        "colab": {
          "base_uri": "https://localhost:8080/",
          "height": 120
        },
        "outputId": "ed9a7b2b-971b-4aa9-e6b7-b8bd968782cd"
      },
      "source": [
        "## Count numbers down from 5 to 1\n",
        "for i in range(5, -1, -1): # step size is -1 here because in each iteration i is 1 less than previous\n",
        "  print('Number {}'.format(i)) # in each iteration i = i - 1\n",
        "      "
      ],
      "execution_count": null,
      "outputs": [
        {
          "output_type": "stream",
          "text": [
            "Number 5\n",
            "Number 4\n",
            "Number 3\n",
            "Number 2\n",
            "Number 1\n",
            "Number 0\n"
          ],
          "name": "stdout"
        }
      ]
    },
    {
      "cell_type": "code",
      "metadata": {
        "id": "AP6SOJyVaRa7",
        "colab_type": "code",
        "colab": {
          "base_uri": "https://localhost:8080/",
          "height": 68
        },
        "outputId": "26d1c68a-9cb8-4940-d2b4-ff3641588237"
      },
      "source": [
        "for i in range(5, -1, -2): ## count down but in steps of 2\n",
        "  print('Number {}'.format(i))"
      ],
      "execution_count": null,
      "outputs": [
        {
          "output_type": "stream",
          "text": [
            "Number 5\n",
            "Number 3\n",
            "Number 1\n"
          ],
          "name": "stdout"
        }
      ]
    },
    {
      "cell_type": "code",
      "metadata": {
        "id": "GPyFcWAdaahy",
        "colab_type": "code",
        "colab": {}
      },
      "source": [
        ""
      ],
      "execution_count": null,
      "outputs": []
    }
  ]
}