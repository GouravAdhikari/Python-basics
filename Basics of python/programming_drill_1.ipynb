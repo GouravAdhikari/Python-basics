{
  "nbformat": 4,
  "nbformat_minor": 0,
  "metadata": {
    "colab": {
      "name": "programming_drill_1.ipynb",
      "provenance": []
    },
    "kernelspec": {
      "name": "python3",
      "display_name": "Python 3"
    }
  },
  "cells": [
    {
      "cell_type": "markdown",
      "metadata": {
        "id": "QoXNSVtrVgvb",
        "colab_type": "text"
      },
      "source": [
        "## Drill #1 - Intro to print<br>\n",
        "<img src=\"https://drive.google.com/uc?id=1HCwzFtQKoV3fZYK4_Eo9P-CApIL8geQi\" width=\"300\"> \n",
        "#### Expected output\n",
        "<img src=\"https://drive.google.com/uc?id=1tAXjMEO7BBHLZepK1Zgiy1G6S1NHCPKY\" width=\"200\">\n"
      ]
    },
    {
      "cell_type": "code",
      "metadata": {
        "id": "3O3pXk93BMlV",
        "colab_type": "code",
        "colab": {
          "base_uri": "https://localhost:8080/",
          "height": 34
        },
        "outputId": "b46b8bf4-bc21-4255-ce4a-8bc7421e5b7c"
      },
      "source": [
        "## Write your code here\n",
        "print(\"hello world\")"
      ],
      "execution_count": null,
      "outputs": [
        {
          "output_type": "stream",
          "text": [
            "hello world\n"
          ],
          "name": "stdout"
        }
      ]
    },
    {
      "cell_type": "markdown",
      "metadata": {
        "id": "1dq3VrP8Xil8",
        "colab_type": "text"
      },
      "source": [
        "#### 1.2 Make your script print another line"
      ]
    },
    {
      "cell_type": "code",
      "metadata": {
        "id": "558jwU0CCHYG",
        "colab_type": "code",
        "colab": {}
      },
      "source": [
        "## Write your code here"
      ],
      "execution_count": null,
      "outputs": []
    },
    {
      "cell_type": "markdown",
      "metadata": {
        "id": "MCra17UCXslF",
        "colab_type": "text"
      },
      "source": [
        "# Drill #2 - Comments <br>\n",
        "<img src=\"https://drive.google.com/uc?id=1SUDq-JoqLdajc03i9Ag76GIpTUeJliW1\" width=\"500\">\n",
        "\n",
        "#### Expected Output\n",
        "<img src=\"https://drive.google.com/uc?id=1ym7NnsNgRJJ6gKsM0IIu1mA7PC63Kb9T\" width=\"250\">"
      ]
    },
    {
      "cell_type": "code",
      "metadata": {
        "id": "19pWn_d0Xrad",
        "colab_type": "code",
        "colab": {}
      },
      "source": [
        "## Write your code here (Write all of it, including the comments)\n",
        "#single line comments\n"
      ],
      "execution_count": null,
      "outputs": []
    },
    {
      "cell_type": "markdown",
      "metadata": {
        "id": "gvjj1NTNaFeN",
        "colab_type": "text"
      },
      "source": [
        "### 2.1 \n",
        "Start at the last line, and check each word in reverse against what you should have typed. If you find more mistakes, fix them. (This is a trick to make sure you do not attach meaning to any part of code and are able to look at each piece exactly. It is a handy trick to catch errors)"
      ]
    },
    {
      "cell_type": "code",
      "metadata": {
        "id": "aCNK7PxIXzDX",
        "colab_type": "code",
        "colab": {}
      },
      "source": [
        "## Write your code here"
      ],
      "execution_count": null,
      "outputs": []
    },
    {
      "cell_type": "markdown",
      "metadata": {
        "id": "myAZjSq4awLj",
        "colab_type": "text"
      },
      "source": [
        "### 2.2 \n",
        "Read what you typed above out loud, including saying each character by its name. If you find more mistakes, fix them."
      ]
    },
    {
      "cell_type": "code",
      "metadata": {
        "id": "fKX_ltdFZhgu",
        "colab_type": "code",
        "colab": {}
      },
      "source": [
        "## Write your code here"
      ],
      "execution_count": null,
      "outputs": []
    },
    {
      "cell_type": "markdown",
      "metadata": {
        "id": "SVIoH6EE1ZoH",
        "colab_type": "text"
      },
      "source": [
        "# Drill #3 - Mathematical operations\n",
        "Type in the following code exactly before you run it. <br><br>\n",
        "<img src=\"https://drive.google.com/uc?id=1FvLTSNJ84Da_KHSczhxg0Q0Wgf7Z3DDa\" width=\"400\"><br>\n",
        "#### Expected Output\n",
        "<img src=\"https://drive.google.com/uc?id=1NulYhDSBqL3-7EzbYwSl5RaHHaZIvB73\" width=\"200\">"
      ]
    },
    {
      "cell_type": "code",
      "metadata": {
        "id": "4mGB9iw_1cP5",
        "colab_type": "code",
        "colab": {}
      },
      "source": [
        "## Write your code here"
      ],
      "execution_count": 1,
      "outputs": []
    },
    {
      "cell_type": "markdown",
      "metadata": {
        "id": "70z8KFY84v7K",
        "colab_type": "text"
      },
      "source": [
        "### 3.1 \n",
        "Find something you need to calculate and write the code that does it."
      ]
    },
    {
      "cell_type": "code",
      "metadata": {
        "id": "bSWEB1vV3JvF",
        "colab_type": "code",
        "colab": {}
      },
      "source": [
        "## Write your code here"
      ],
      "execution_count": null,
      "outputs": []
    },
    {
      "cell_type": "markdown",
      "metadata": {
        "id": "TE_URpDk5IZg",
        "colab_type": "text"
      },
      "source": [
        "### 3.2 \n",
        "You can use parentheses to change the order of operations. For eg., 2 + (3 * 5) is different from (2 + 3)*5. <br> Play with parentheses to see how the results change."
      ]
    },
    {
      "cell_type": "code",
      "metadata": {
        "id": "-H6gAYG55qBj",
        "colab_type": "code",
        "colab": {}
      },
      "source": [
        "## Write your code here"
      ],
      "execution_count": null,
      "outputs": []
    },
    {
      "cell_type": "markdown",
      "metadata": {
        "id": "AMRJ75_JY8Ep",
        "colab_type": "text"
      },
      "source": [
        "#Drill #4 - Variables\n",
        "<img src=\"https://drive.google.com/uc?id=1k2pTmgJ6pwKqC8xY9GQg83qfKry8TUci\" width=\"400\">\n",
        "\n",
        "### Expected Output\n",
        "<img src=\"https://drive.google.com/uc?id=1GjRjri4bjr7rEgq8hKwZ2fWDH6ld3EOU\" width=\"300\">"
      ]
    },
    {
      "cell_type": "markdown",
      "metadata": {
        "id": "A5j13VELdoV9",
        "colab_type": "text"
      },
      "source": [
        "###4.1 \n",
        "Check what happens if you use 50.0 instead of 50 for capacity_classroom. (Decimal numbers such as 50.0 are called floating point numbers)\n"
      ]
    },
    {
      "cell_type": "code",
      "metadata": {
        "id": "1x0QH2NecBEc",
        "colab_type": "code",
        "colab": {}
      },
      "source": [
        "### Write your code here"
      ],
      "execution_count": null,
      "outputs": []
    },
    {
      "cell_type": "markdown",
      "metadata": {
        "id": "Lf5cNYOBh1dz",
        "colab_type": "text"
      },
      "source": [
        "###4.2\n",
        "Add a comment before each line in the code to describe what that line of code is doing in plain english."
      ]
    },
    {
      "cell_type": "code",
      "metadata": {
        "id": "AYE9BvA5cTxC",
        "colab_type": "code",
        "colab": {}
      },
      "source": [
        "### Write your code here"
      ],
      "execution_count": null,
      "outputs": []
    }
  ]
}